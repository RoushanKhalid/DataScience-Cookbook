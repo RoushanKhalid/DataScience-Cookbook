defj_extrat_df(n)n


j)